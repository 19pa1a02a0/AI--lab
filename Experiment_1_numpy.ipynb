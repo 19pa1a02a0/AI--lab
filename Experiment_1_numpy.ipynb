{
  "nbformat": 4,
  "nbformat_minor": 0,
  "metadata": {
    "kernelspec": {
      "display_name": "Python 3",
      "language": "python",
      "name": "python3"
    },
    "language_info": {
      "codemirror_mode": {
        "name": "ipython",
        "version": 3
      },
      "file_extension": ".py",
      "mimetype": "text/x-python",
      "name": "python",
      "nbconvert_exporter": "python",
      "pygments_lexer": "ipython3",
      "version": "3.8.3"
    },
    "colab": {
      "name": "Experiment 1 numpy.ipynb",
      "provenance": [],
      "include_colab_link": true
    }
  },
  "cells": [
    {
      "cell_type": "markdown",
      "metadata": {
        "id": "view-in-github",
        "colab_type": "text"
      },
      "source": [
        "<a href=\"https://colab.research.google.com/github/19pa1a02a0/AI--lab/blob/master/Experiment_1_numpy.ipynb\" target=\"_parent\"><img src=\"https://colab.research.google.com/assets/colab-badge.svg\" alt=\"Open In Colab\"/></a>"
      ]
    },
    {
      "cell_type": "markdown",
      "metadata": {
        "id": "UVVtY825vzI7"
      },
      "source": [
        "# 1) NumPy \n",
        "* Different ways to create NumPy arrays \n",
        "* Add, remove, modify elements in an array. \n",
        "* Arithmetic operations on NumPy array \n",
        "* Slicing and iterating of NumPy arrays \n",
        "* Matrix operations on NumPy arrays \n"
      ]
    },
    {
      "cell_type": "markdown",
      "metadata": {
        "id": "b2q8eRvxvzJB"
      },
      "source": [
        "## 1)Different ways to create a Numpy arrays."
      ]
    },
    {
      "cell_type": "code",
      "metadata": {
        "id": "Z8Y6nvSWvzJC",
        "outputId": "0652d1da-a7d0-4d85-eb54-47d8bde7ea1b"
      },
      "source": [
        "# Create a numpy array\n",
        "import numpy as np\n",
        "x = np.array([1,2,3])\n",
        "print(x)"
      ],
      "execution_count": null,
      "outputs": [
        {
          "output_type": "stream",
          "text": [
            "[1 2 3]\n"
          ],
          "name": "stdout"
        }
      ]
    },
    {
      "cell_type": "code",
      "metadata": {
        "id": "vAfqxXjMvzJD",
        "outputId": "8ece3720-a382-4d6d-b6dc-8e58b3cf5b64"
      },
      "source": [
        "#  Create a 2d array\n",
        "y = np.array([[4,5,6],[7,8,9]])\n",
        "print(y)"
      ],
      "execution_count": null,
      "outputs": [
        {
          "output_type": "stream",
          "text": [
            "[[4 5 6]\n",
            " [7 8 9]]\n"
          ],
          "name": "stdout"
        }
      ]
    },
    {
      "cell_type": "code",
      "metadata": {
        "id": "Wng8XjNPvzJE",
        "outputId": "1204f3ed-67c4-41e0-8134-933e741c39c2"
      },
      "source": [
        "# Craete a numpy array from 10 to 30 with intervel of 5\n",
        "import numpy as np\n",
        "np.arange( 10, 30, 5 )"
      ],
      "execution_count": null,
      "outputs": [
        {
          "output_type": "execute_result",
          "data": {
            "text/plain": [
              "array([10, 15, 20, 25])"
            ]
          },
          "metadata": {
            "tags": []
          },
          "execution_count": 10
        }
      ]
    },
    {
      "cell_type": "markdown",
      "metadata": {
        "id": "ixWa578jvzJE"
      },
      "source": [
        "## 2) Add, remove, modify elements in an array."
      ]
    },
    {
      "cell_type": "markdown",
      "metadata": {
        "id": "0avUyutuvzJF"
      },
      "source": [
        "### 2.1) Adding an element to an array"
      ]
    },
    {
      "cell_type": "code",
      "metadata": {
        "id": "MgifRaizvzJF",
        "outputId": "23bd37f3-207b-4a2f-8223-b36d06b7df93"
      },
      "source": [
        "b = np.append(x,[6,4,2])\n",
        "print(b)"
      ],
      "execution_count": null,
      "outputs": [
        {
          "output_type": "stream",
          "text": [
            "[1 2 3 6 4 2]\n"
          ],
          "name": "stdout"
        }
      ]
    },
    {
      "cell_type": "markdown",
      "metadata": {
        "id": "3K-LRgFrvzJF"
      },
      "source": [
        "### 2.2) Remove element/s from an array"
      ]
    },
    {
      "cell_type": "code",
      "metadata": {
        "id": "ZZtlXzUwvzJG",
        "outputId": "607b6744-1f0a-4b15-e09e-6a036502978b"
      },
      "source": [
        "print(\"The elements in X before deleting\",x)\n",
        "newarray = np.delete(x,2) # Element at index 2 is removed.\n",
        "print(\"The elements in X after deleting\",newarray) "
      ],
      "execution_count": null,
      "outputs": [
        {
          "output_type": "stream",
          "text": [
            "The elements in X before deleting [1 2 3]\n",
            "The elements in X after deleting [1 2]\n"
          ],
          "name": "stdout"
        }
      ]
    },
    {
      "cell_type": "markdown",
      "metadata": {
        "id": "pW8f2Cz2vzJG"
      },
      "source": [
        "### 2.3) Modify elements in the array"
      ]
    },
    {
      "cell_type": "code",
      "metadata": {
        "id": "hQy46tovvzJG",
        "outputId": "28cce186-3732-4c1d-f541-f05fea0e39e0"
      },
      "source": [
        "b = np.array([6,4,1,3,5,9])\n",
        "b[b<4] = -1 # Elements less than 4 are replaced with \"-1\"\n",
        "print(b)"
      ],
      "execution_count": null,
      "outputs": [
        {
          "output_type": "stream",
          "text": [
            "[ 6  4 -1 -1  5  9]\n"
          ],
          "name": "stdout"
        }
      ]
    },
    {
      "cell_type": "markdown",
      "metadata": {
        "id": "QLMRmxvOvzJH"
      },
      "source": [
        "## 3) Arithmetic operations on NumPy array"
      ]
    },
    {
      "cell_type": "code",
      "metadata": {
        "id": "vCH_uN8vvzJH",
        "outputId": "017af940-b1e4-4e23-f001-2b10d709ef0a"
      },
      "source": [
        "# Let's create two arrays\n",
        "a = np.array( [20,30,40,50] )\n",
        "b = np.arange( 4 )\n",
        "print(\"The elements in a are\",a)\n",
        "print(\"The elements in b are\",b)\n",
        "\n",
        "print(\"Result after Addition\",a+b)\n",
        "print(\"Result after substraction\",a-b)\n",
        "print(\"Result after multiplication\",a*b)\n",
        "print(\"Result after division\",a/b) # Even python is able to handle divided by 0 error by just a warning\n",
        "\n",
        "print(\"Result after increasing the number to the power of 4\",b**4) # Scalar multiplication(power)\n",
        "\n",
        "print(\"Result after applying sin and multiplying with 10\",10*np.sin(a)) # trignometric functions are available in numpy package\n",
        "\n",
        "a[0] +=10 # This is equalient to a[0]=a[0]+10\n",
        "print(\"Result after adding first element with 10\",a)\n",
        "\n",
        "print(np.dot(a,b)) # Matrix multiplication"
      ],
      "execution_count": null,
      "outputs": [
        {
          "output_type": "stream",
          "text": [
            "The elements in a are [20 30 40 50]\n",
            "The elements in b are [0 1 2 3]\n",
            "Result after Addition [20 31 42 53]\n",
            "Result after substraction [20 29 38 47]\n",
            "Result after multiplication [  0  30  80 150]\n",
            "Result after division [        inf 30.         20.         16.66666667]\n",
            "Result after increasing the number to the power of 4 [ 0  1 16 81]\n",
            "Result after applying sin and multiplying with 10 [ 9.12945251 -9.88031624  7.4511316  -2.62374854]\n",
            "Result after adding first element with 10 [30 30 40 50]\n",
            "260\n"
          ],
          "name": "stdout"
        },
        {
          "output_type": "stream",
          "text": [
            "<ipython-input-27-fb6e41aaac66>:10: RuntimeWarning: divide by zero encountered in true_divide\n",
            "  print(\"Result after division\",a/b) # Even python is able to handle divided by 0 error by just a warning\n"
          ],
          "name": "stderr"
        }
      ]
    },
    {
      "cell_type": "markdown",
      "metadata": {
        "id": "L10w13ItvzJH"
      },
      "source": [
        "## 4) Slicing and iterating of NumPy arrays"
      ]
    },
    {
      "cell_type": "markdown",
      "metadata": {
        "id": "SQiDs7N7vzJH"
      },
      "source": [
        "### 4.1) Slicing 1-D array"
      ]
    },
    {
      "cell_type": "code",
      "metadata": {
        "id": "n4f6LkBhvzJI",
        "outputId": "0a18f33b-d080-4430-c703-0a569dd59c0e"
      },
      "source": [
        "# Slicing a 1-D array\n",
        "\n",
        "a=np.arange(10)**3\n",
        "print(\"Let's consider the elements\",a)\n",
        "\n",
        "print(\"The output of a[2] is\", a[2]) # Prints the element at index 2. i.e 3rd element of the array a\n",
        "print(\"The output of a[2:4] is\",a[2:4]) # Prints the element from index 2 to index 3. Note that a[2:4] means elements from 2 upto 4 (But not including 4).\n",
        "print(\"The output of a[2:3] is\",a[2:3]) # Note that this returns an array with 1 element. But a[2] returns a scalar element\n",
        "\n",
        "print(\"The output of a[-1] is\",a[-1]) # prints last element\n",
        "print(\"The output of a[-2] is\",a[-2]) # prints last but element\n",
        "print(\"The output of a[-5:-2] is\",a[-5:-2]) # prints 5th ,6th and 7th element. i.e -5,-4,-3"
      ],
      "execution_count": null,
      "outputs": [
        {
          "output_type": "stream",
          "text": [
            "Let's consider the elements [  0   1   8  27  64 125 216 343 512 729]\n",
            "The output of a[2] is 8\n",
            "The output of a[2:4] is [ 8 27]\n",
            "The output of a[2:3] is [8]\n",
            "The output of a[-1] is 729\n",
            "The output of a[-2] is 512\n",
            "The output of a[-5:-2] is [125 216 343]\n"
          ],
          "name": "stdout"
        }
      ]
    },
    {
      "cell_type": "markdown",
      "metadata": {
        "id": "7tJ5OsB_vzJI"
      },
      "source": [
        "### 4.1) Slicing 2-D array"
      ]
    },
    {
      "cell_type": "code",
      "metadata": {
        "id": "H-cKXeOLvzJI",
        "outputId": "3b425614-e80a-4cb0-c76f-34c5694e3207"
      },
      "source": [
        "# Slicing a 2-D array\n",
        "\n",
        "a=np.arange(12).reshape(4,3)**2 # Create an array \"a\" with square of numbers from 0 to 11.\n",
        "print(\"The output of a[2] is\",a)\n",
        "\n",
        "print(\"The output of a[1:3] is\",a[1:3]) # Prints second and third rows\n",
        "print(\"The output of a[1:3,1:2] is\",a[1:3,1:2]) # from second and third rows, print second column\n",
        "print(\"The output of a[2,] is\",a[2,])# print 3rd row\n",
        "print(\"The output of a[:3,] is\",a[:3,])# print 1st, 2nd and 3rd row\n",
        "\n",
        "print(\"The output of a[-1,] is\",a[-1,]) # Prints last row\n",
        "print(\"The output of a[-1,-1] is\",a[-1,-1]) # print element at last row and last column\n"
      ],
      "execution_count": null,
      "outputs": [
        {
          "output_type": "stream",
          "text": [
            "The output of a[2] is [[  0   1   4]\n",
            " [  9  16  25]\n",
            " [ 36  49  64]\n",
            " [ 81 100 121]]\n",
            "The output of a[1:3] is [[ 9 16 25]\n",
            " [36 49 64]]\n",
            "The output of a[1:3,1:2] is [[16]\n",
            " [49]]\n",
            "The output of a[2,] is [36 49 64]\n",
            "The output of a[:3,] is [[ 0  1  4]\n",
            " [ 9 16 25]\n",
            " [36 49 64]]\n",
            "The output of a[-1,] is [ 81 100 121]\n",
            "The output of a[-1,-1] is 121\n"
          ],
          "name": "stdout"
        }
      ]
    },
    {
      "cell_type": "markdown",
      "metadata": {
        "id": "csE4WWpivzJI"
      },
      "source": [
        "### 4.3) Iterating\n",
        "Iterating over multidimensional arrays is done with respect to the first axis."
      ]
    },
    {
      "cell_type": "code",
      "metadata": {
        "id": "QlNbLDNpvzJJ",
        "outputId": "e87a38a9-7dfb-4416-e99c-6fdbbe015ac6"
      },
      "source": [
        "a=np.arange(12).reshape(4,3)**2 # Create an array \"a\" with square of numbers from 0 to 11.\n",
        "print(\"Let's consider an array\",a)\n",
        "print(\"\\n\")\n",
        "for i in a:\n",
        "    print(i)"
      ],
      "execution_count": null,
      "outputs": [
        {
          "output_type": "stream",
          "text": [
            "Let's consider an array [[  0   1   4]\n",
            " [  9  16  25]\n",
            " [ 36  49  64]\n",
            " [ 81 100 121]]\n",
            "\n",
            "\n",
            "[0 1 4]\n",
            "[ 9 16 25]\n",
            "[36 49 64]\n",
            "[ 81 100 121]\n"
          ],
          "name": "stdout"
        }
      ]
    },
    {
      "cell_type": "markdown",
      "metadata": {
        "id": "5qhwFu-mvzJJ"
      },
      "source": [
        "## 5)Matrix operations on NumPy arrays"
      ]
    },
    {
      "cell_type": "code",
      "metadata": {
        "id": "jnsbN3T1vzJJ",
        "outputId": "3a4970dd-84e8-4dbd-ecb0-43c4323a8ef0"
      },
      "source": [
        "a=np.floor(10*np.random.random((3,4))) # Create a rondom 3*4 matrix.\n",
        "print(\"Let's consider a 1-D array\\n\",a)\n",
        "print(\"After reshaping to 2 by 6 matrix\\n\",a.reshape(2,6))\n",
        "print(\"To Flatten the array\\n\",a.ravel())\n",
        "print(\"To transpose the array\\n\",a.T)"
      ],
      "execution_count": null,
      "outputs": [
        {
          "output_type": "stream",
          "text": [
            "Let's consider a 1-D array\n",
            " [[6. 2. 4. 5.]\n",
            " [1. 0. 6. 4.]\n",
            " [1. 7. 4. 8.]]\n",
            "After reshaping to 2 by 6 matrix\n",
            " [[6. 2. 4. 5. 1. 0.]\n",
            " [6. 4. 1. 7. 4. 8.]]\n",
            "To Flatten the array\n",
            " [6. 2. 4. 5. 1. 0. 6. 4. 1. 7. 4. 8.]\n",
            "To transpose the array\n",
            " [[6. 1. 1.]\n",
            " [2. 0. 7.]\n",
            " [4. 6. 4.]\n",
            " [5. 4. 8.]]\n"
          ],
          "name": "stdout"
        }
      ]
    },
    {
      "cell_type": "code",
      "metadata": {
        "id": "JJEWQgxdvzJJ"
      },
      "source": [
        ""
      ],
      "execution_count": null,
      "outputs": []
    }
  ]
}